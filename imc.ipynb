{
  "nbformat": 4,
  "nbformat_minor": 0,
  "metadata": {
    "colab": {
      "name": "imc.ipynb",
      "provenance": [],
      "authorship_tag": "ABX9TyPXKxPJYg4aLZhg81t/5mts",
      "include_colab_link": true
    },
    "kernelspec": {
      "name": "python3",
      "display_name": "Python 3"
    },
    "language_info": {
      "name": "python"
    }
  },
  "cells": [
    {
      "cell_type": "markdown",
      "metadata": {
        "id": "view-in-github",
        "colab_type": "text"
      },
      "source": [
        "<a href=\"https://colab.research.google.com/github/Pedrosco/calculadora-de-imc/blob/main/imc.ipynb\" target=\"_parent\"><img src=\"https://colab.research.google.com/assets/colab-badge.svg\" alt=\"Open In Colab\"/></a>"
      ]
    },
    {
      "cell_type": "code",
      "metadata": {
        "colab": {
          "base_uri": "https://localhost:8080/"
        },
        "id": "Xvq5pDOg6qTC",
        "outputId": "d383ef12-4f6d-4529-c4ef-3f2897b7ced9"
      },
      "source": [
        "print('Seja bem vindo a minha calculadora IMC, vamos começar!!')\n",
        "\n",
        "print('Qual é o seu nome?')\n",
        "nome = input()\n",
        "\n",
        "print(f'Seja bem vindo {nome}')\n",
        "\n",
        "print('Qual é a sua altura em metros?')\n",
        "altura= float(input())\n",
        "\n",
        "print('Qual é o seu peso?')\n",
        "peso= float(input())\n",
        "\n",
        "imc = float(peso/altura**altura)\n",
        "\n",
        "print(f'Olá {nome}, seu imc é de {imc:,.4f}')\n",
        "\n",
        "if imc < 16:\n",
        "  print(\"Magreza grave\")\n",
        "  print('Se cuide mais e se alimente de forma saúdavel')\n",
        "elif imc < 17:\n",
        "  print('Você está com Magreza moderada')\n",
        "  print('Você está quase chegando lá, só precisa comer melhor')\n",
        "elif imc < 18.5:\n",
        "  print('Você está com Magreza leve')\n",
        "  print('Você está quase chegando lá, só precisa comer melhor')\n",
        "elif imc < 25:\n",
        "  print('Você está com Saúdavel')\n",
        "  print('Meus parabéns!!!!!')\n",
        "elif imc < 30:\n",
        "  print('Você está com Sobrepeso')\n",
        "  print('Tente se cuidar para não sofrer as consequências no futuro.')\n",
        "elif imc < 35:\n",
        "  print('Você está com Obesidade Grau I')\n",
        "  print('Você está acima do peso, tente regular sua alimentação e beba muita água, :)!')\n",
        "elif imc > 40:\n",
        "  print('Você está com Obesidade Grau II (Severa)')\n",
        "  print('Cuidado para não morrer, faça um acompanhamento médico regularmente e tenha uma rotina de exercicios')\n",
        "\n",
        "\n",
        "\n",
        "\n"
      ],
      "execution_count": 10,
      "outputs": [
        {
          "output_type": "stream",
          "name": "stdout",
          "text": [
            "Seja bem vindo a minha calculadora IMC, vamos começar!!\n",
            "Qual é o seu nome?\n",
            "Pedro\n",
            "Seja bem vindo Pedro\n",
            "Qual é a sua altura em metros?\n",
            "1.68\n",
            "Qual é o seu peso?\n",
            "73\n",
            "Olá Pedro, seu imc é de 30.5354\n",
            "Você está com Obesidade Grau I\n",
            "Você está acima do peso, tente regular sua alimentação e beba muita água, :)!\n"
          ]
        }
      ]
    }
  ]
}